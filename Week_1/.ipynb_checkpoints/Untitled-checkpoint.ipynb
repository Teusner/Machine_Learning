{
 "cells": [
  {
   "cell_type": "markdown",
   "metadata": {},
   "source": [
    "Approche supervisée : Aprentissage à partir de données labelisées. Il faut associer une étiquette à chaque groupe de données. La machine doit ensuite trouver les caractéristiques qui se dégagent de la donnée afin de comprendre les caractéristiques de la classe, et ainsi pouvoir par exemple classifier des nouvelles données.\n",
    "\n",
    "Approche non-supervisée : Apprentissage non fait à partir de données labelisées. La machine doit elle même détecter les caractéristiques des différents éléments du jeu de données, et ainsi proposer une classification par exemple.\n",
    "\n",
    "Regression : Domaine du machine learning visant à estimer au mieux la tendance d'un jeu de données afin de pouvoir extrapoler cette tendance à des nouvelles valeurs inconnues par la machine.\n",
    "\n",
    "Classification : Domaine du machine learning visant à classer un groupe de données (une image par exemple) dans une classe. Il est commun d'entrainer le modèle par une approche supervisée (images labelisées par exemple), afin de déterminer les caractéristiques des différentes classes d'interêt.\n"
   ]
  },
  {
   "cell_type": "code",
   "execution_count": null,
   "metadata": {},
   "outputs": [],
   "source": []
  },
  {
   "cell_type": "code",
   "execution_count": null,
   "metadata": {},
   "outputs": [],
   "source": []
  },
  {
   "cell_type": "markdown",
   "metadata": {},
   "source": [
    "La normalisation des descripteurs permet de conserver la dynamique et la tendance d'évolution des données, mais elle unifie le jeu de données, et est utile dans le cas de certains traitements. Elle facilite aussi la représentation des données (graphique, toutes les valeurs sont regroupées autour de 0 et ont un écart-type de 1)."
   ]
  }
 ],
 "metadata": {
  "kernelspec": {
   "display_name": "Python 3.6.9 64-bit",
   "language": "python",
   "name": "python36964bit78d681f1e51d4e2898ab7e89fbbfb174"
  },
  "language_info": {
   "codemirror_mode": {
    "name": "ipython",
    "version": 3
   },
   "file_extension": ".py",
   "mimetype": "text/x-python",
   "name": "python",
   "nbconvert_exporter": "python",
   "pygments_lexer": "ipython3",
   "version": "3.6.9"
  }
 },
 "nbformat": 4,
 "nbformat_minor": 4
}
