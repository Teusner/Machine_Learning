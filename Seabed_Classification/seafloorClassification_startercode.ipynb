{
  "nbformat": 4,
  "nbformat_minor": 0,
  "metadata": {
    "accelerator": "GPU",
    "colab": {
      "name": "seafloorClassification_solution.ipynb",
      "provenance": [],
      "collapsed_sections": []
    },
    "kernelspec": {
      "display_name": "Python 3",
      "language": "python",
      "name": "python3"
    },
    "language_info": {
      "codemirror_mode": {
        "name": "ipython",
        "version": 3
      },
      "file_extension": ".py",
      "mimetype": "text/x-python",
      "name": "python",
      "nbconvert_exporter": "python",
      "pygments_lexer": "ipython3",
      "version": "3.7.7"
    }
  },
  "cells": [
    {
      "cell_type": "markdown",
      "metadata": {
        "id": "SZiULAOAv6AZ"
      },
      "source": [
        "# Machine Learning Programming Exercise 6: <ins>Supervised classification</ins>\n",
        "\n",
        "\n",
        "## Objectifs\n",
        "\n",
        "\n",
        "Nous allons dans ce TP classer automatiquement des patchs extraits d'images sonar (cf. figure ci-dessous) en types de fond marin (roches, sables, vases, rides de sable verticales et à 45°, [Posidonie](https://fr.wikipedia.org/wiki/Posidonia_oceanica)).\n",
        "\n",
        "Quelques exemples de patchs d'image sonar de fond marin:\n",
        "<img src=\"https://github.com/Teusner/Machine_Learning/blob/master/Seabed_Classification/imgs/screenshot001.png?raw=1\" />\n",
        "\n",
        "\n",
        "L'objectif est d'écrire des scripts permettant de mettre en \\oe uvre un système basé sur différentes approches supervisées de machine learning. Ces scripts devront ainsi suivre la chaîne générale décrite en cours (à l'exception de la phase de captation; cf. figure ci-dessous ) :\n",
        "* prétraitements\n",
        "* extraction des descripteurs\n",
        "* apprentissage d'un modèle de classement\n",
        "* classement des pixels\n",
        "* évaluation du classifieur appris\n",
        "\n",
        "<img src=\"https://github.com/Teusner/Machine_Learning/blob/master/Seabed_Classification/imgs/screenshot002.png?raw=1\" />\n",
        "\n",
        "Le TP est globalement organisé de la manière suivante\n",
        "* **Données**\n",
        " 1. tout d'abord apprendre les modèles de classement (classifieurs) sur les données brutes (descripteurs=features=valeurs des pixels) \n",
        " 2. puis dans un second temps sur des descripteurs extraits à partir d'un algorithme appelé [scattering operator](https://www.di.ens.fr/data/scattering) (le fonctionnement exact n'est pas au programme mais il s'apparente à une banque de filtres mise en cascade). \n",
        "\n",
        "* **Prétraitements** Aucun prétraitement ne sera réalisé. \n",
        "\n",
        "* **Ensembles de données**\n",
        " 1. Les ensembles de données seront composés de 1/3 de la base totale d'images. \n",
        " 2. Dans un second temps, nous procéderons par [validation croisée](https://scikit-learn.org/stable/modules/cross_validation.html) car la base d'images est de taille réduite.\n",
        "* **Algorithmes** \n",
        "    Concernant les algorithmes supervisés de machine learning, l'objectif est d'utiliser les deux algorithmes de regression logistique et de réseaux de neurones que vous avez développés aux TP précédents et de découvrir le package python [scikit-learn](http://scikit-learn.org/stable/user_guide.html) qui vous permettra d'utiliser les algorithmes de [régression logistique](https://scikit-learn.org/stable/modules/linear_model.html#logistic-regression), [réseaux de neurones](https://scikit-learn.org/stable/modules/neural_networks_supervised.html), [random forests](https://scikit-learn.org/stable/modules/ensemble.html#forest) et [svm](https://scikit-learn.org/stable/modules/svm.html#svm-classification).\n",
        "\n",
        "* Pour commencer avec cette séance, vous aurez besoin de **télécharger** le _starter code_  disponible sur le lien Moodle du cours.\n",
        "\n",
        "<span style='color:red'>**Dans cet exercice, il vous est demandé de fournir un rapport regroupant les réponses aux questions, vos analyses et vos codes. Ce rapport pourra prendre la forme d'un pdf ou d'un jupyter notebook. Il est de plus conseillé de faire tourner les codes sur google colab si votre machine manque de puissance (dans ce cas un jupyter notebook est nécessaire).**</span>\n",
        "\n",
        "\n",
        "## Fichiers inclus dans le starter code pour cette séance\n",
        "* **pythonTools.py** - fonctions utiles pour l'affichage, le chargement des données et l'évaluation des performances\n",
        "* **usefulCmds.py** - quelques commandes pour faciliter l'import des patchs\n",
        "* **dataSet** - répertoire avec les images et les labels correspondants\n",
        "* **dataSet\\imdb_200x200_SmallSonarTex_db_6classes_scatValOnly.mat** - fichier matlab contenant les descripteurs extraits des images par le scattering operator\n",
        "\n"
      ]
    },
    {
      "cell_type": "markdown",
      "metadata": {
        "id": "8-Y6TWZBv6Ab"
      },
      "source": [
        "# Part 0: intro"
      ]
    },
    {
      "cell_type": "markdown",
      "metadata": {
        "id": "wsF0iPYhv6Ae"
      },
      "source": [
        "## 0.1 imports"
      ]
    },
    {
      "cell_type": "markdown",
      "metadata": {
        "id": "H9vExjoNv6Af"
      },
      "source": [
        "_Your commented code below_"
      ]
    },
    {
      "cell_type": "code",
      "metadata": {
        "id": "vQhXCVuAv6Ag"
      },
      "source": [
        "   from google.colab import files"
      ],
      "execution_count": null,
      "outputs": []
    },
    {
      "cell_type": "markdown",
      "metadata": {
        "id": "oEAis_r1v6Ar"
      },
      "source": [
        "## 0.2 Examen des données\n",
        "\n",
        "Écrire des lignes de code permettant:\n",
        "* de charger les données comprises dans le fichier _labels.csv_,\n",
        "* de mettre en matrice les descripteurs de l'ensemble de la base d'images\n",
        "* d'afficher les images avec la fonction _plot\\_batch()_ du fichier \\_pythonTools.py_,\n"
      ]
    },
    {
      "cell_type": "markdown",
      "metadata": {
        "id": "V5dDA5Kiv6Ar"
      },
      "source": [
        "_Your commented code below_"
      ]
    },
    {
      "cell_type": "code",
      "metadata": {
        "id": "xGqVIrCxv6At"
      },
      "source": [
        ""
      ],
      "execution_count": null,
      "outputs": []
    },
    {
      "cell_type": "markdown",
      "metadata": {
        "id": "jbI5IPb4v6Az"
      },
      "source": [
        "**Question: Quel est le nombre de données, le nombres de descripteurs**"
      ]
    },
    {
      "cell_type": "markdown",
      "metadata": {
        "id": "fZ2JIo5Jv6A0"
      },
      "source": [
        "_votre réponse ici:_"
      ]
    },
    {
      "cell_type": "markdown",
      "metadata": {
        "id": "jCk7ykINv6A1"
      },
      "source": [
        "## 0.3 prétraitements des labels\n",
        "\n",
        "Écrire des lignes de code, un script ou une fonction _preprocessing()_ permettant:\n",
        "* de disposer des labels dans différents [codages](https://scikit-learn.org/stable/modules/preprocessing_targets.html) (noms, indices, one-hot-encoding, etc.) \n"
      ]
    },
    {
      "cell_type": "markdown",
      "metadata": {
        "id": "-1GzYnP5v6A3"
      },
      "source": [
        "_Your commented code below_"
      ]
    },
    {
      "cell_type": "code",
      "metadata": {
        "id": "CW41N-eHv6A3"
      },
      "source": [
        ""
      ],
      "execution_count": null,
      "outputs": []
    },
    {
      "cell_type": "markdown",
      "metadata": {
        "id": "0tu9u9Oqv6A8"
      },
      "source": [
        "## 0.4 Séparation des données en ensembles \n",
        "\n",
        "Écrire des lignes de code, un script ou une fonction _preprocessing()_ permettant:\n",
        "* de [normaliser](https://scikit-learn.org/stable/modules/preprocessing.html) les données si besoin \n",
        "* de [créer deux ensembles](https://scikit-learn.org/stable/modules/generated/sklearn.model_selection.train_test_split.html#sklearn.model_selection.train_test_split) un pour l'apprentissage et un pour le test\n"
      ]
    },
    {
      "cell_type": "markdown",
      "metadata": {
        "id": "g1p9-v4cv6A9"
      },
      "source": [
        "_Your commented code below_"
      ]
    },
    {
      "cell_type": "code",
      "metadata": {
        "id": "xjAfwumev6A-"
      },
      "source": [
        ""
      ],
      "execution_count": null,
      "outputs": []
    },
    {
      "cell_type": "markdown",
      "metadata": {
        "id": "pcDIy1Nmv6BD"
      },
      "source": [
        "<strong>Question: Quel est le nombre de données totales et <ins>pour chaque classe</ins>, le nombres de descripteurs pour <ins>chaque ensemble de données</ins></strong>"
      ]
    },
    {
      "cell_type": "markdown",
      "metadata": {
        "id": "8nCFuRy2v6BE"
      },
      "source": [
        "_votre réponse ici:_"
      ]
    },
    {
      "cell_type": "markdown",
      "metadata": {
        "id": "b6nioyvrv6BE"
      },
      "source": [
        "# Part 1 approches supervisées sur données brutes"
      ]
    },
    {
      "cell_type": "markdown",
      "metadata": {
        "id": "ZtkGMAtqv6BF"
      },
      "source": [
        "<strong><ins>Question</ins>: Y-a-t-il besoin de normaliser les descripteurs? Si oui, que faut-il conserver comme information et pourquoi?</strong> "
      ]
    },
    {
      "cell_type": "markdown",
      "metadata": {
        "id": "zbFeb9jAv6BG"
      },
      "source": [
        "_votre réponse ici:_"
      ]
    },
    {
      "cell_type": "markdown",
      "metadata": {
        "id": "01PQN1yev6Bl"
      },
      "source": [
        "**<ins>Question</ins>: Nous allons apprendre les modèles suivants:\n",
        "* régression logistique régularisée et réseaux de neurones développés dans les tps précédents,\n",
        "* régression logistique, réseaux de neurones (solver=lbfgs), svm et random forest en utilisant les fonctions du package scikit-learn\n",
        "\n",
        "Faire la liste des hyper-paramètres (paramètre uniquement lié à l'algorithme d'apprentissage) de chaque algorithme. Comment fixe-t-on leurs valeurs?**"
      ]
    },
    {
      "cell_type": "markdown",
      "metadata": {
        "id": "BxHG8upGv6BO"
      },
      "source": [
        "_votre réponse ici:_ "
      ]
    },
    {
      "cell_type": "markdown",
      "metadata": {
        "id": "tE40sCAMv6BG"
      },
      "source": [
        "<strong><ins>Question</ins>: Fixez au mieux les valeurs des hyperparamètres, réalisez l'apprentissage des modèles suivants: \n",
        "* régression logistique régularisée et réseaux de neurones développés dans les tps précédents,\n",
        "* régression logistique, réseaux de neurones, svm et random forest en utilisant les fonctions du package scikit-learn\n",
        "</strong>"
      ]
    },
    {
      "cell_type": "markdown",
      "metadata": {
        "id": "BRvvdn-Ev6BH"
      },
      "source": [
        "_Your code below_"
      ]
    },
    {
      "cell_type": "code",
      "metadata": {
        "id": "QVabQ3MvM8h6"
      },
      "source": [
        ""
      ],
      "execution_count": null,
      "outputs": []
    },
    {
      "cell_type": "markdown",
      "metadata": {
        "id": "FPJ1qExlv6BQ"
      },
      "source": [
        "**<ins>Question</ins>: Évaluer les modèles appris en décrivant votre méthode**"
      ]
    },
    {
      "cell_type": "markdown",
      "metadata": {
        "id": "gNAFZTFvv6BS"
      },
      "source": [
        "_votre réponse ici:_"
      ]
    },
    {
      "cell_type": "markdown",
      "metadata": {
        "id": "7w4tk5JUv6BS"
      },
      "source": [
        "_Your code below_"
      ]
    },
    {
      "cell_type": "code",
      "metadata": {
        "id": "dp4dnNeVv6BS"
      },
      "source": [
        ""
      ],
      "execution_count": null,
      "outputs": []
    },
    {
      "cell_type": "markdown",
      "metadata": {
        "id": "_Xw7bbYtv6BX"
      },
      "source": [
        "**<ins>Question</ins>: Réalisez un diagramme fonctionnel décrivant le flux des données tout au long de l'approche supervisée. Ce diagramme devra faire apparaître au minimum: les trois ensembles d'images, les descripteurs, les différents algorithmes d'apprentissage, l'évaluation (mettre une image dans le répertoire courant et dans la cellule ci-dessous remplacer par le nom du fichier)**"
      ]
    },
    {
      "cell_type": "markdown",
      "metadata": {
        "id": "KDclLV6xv6BX"
      },
      "source": [
        "_Your image here_ <img src=\"https://github.com/Teusner/Machine_Learning/blob/master/Seabed_Classification/fichierDiagramme.png?raw=1\" />"
      ]
    },
    {
      "cell_type": "markdown",
      "metadata": {
        "id": "aNgbxS-Fv6BY"
      },
      "source": [
        "# Partie 2: Approche supervisée sur descripteurs issus du scattering operator"
      ]
    },
    {
      "cell_type": "markdown",
      "metadata": {
        "id": "cx-zJNJMM8iO"
      },
      "source": [
        "## Chargement des descripteurs"
      ]
    },
    {
      "cell_type": "markdown",
      "metadata": {
        "id": "LYGGoa--v6BZ"
      },
      "source": [
        "**<ins>Question</ins>: Chargez les données du fichier matlab imdb_200x200_SmallSonarTex_db_6classes_scatValOnly.mat**"
      ]
    },
    {
      "cell_type": "markdown",
      "metadata": {
        "id": "2LmzGnm9v6BZ"
      },
      "source": [
        "_Your Code below_"
      ]
    },
    {
      "cell_type": "code",
      "metadata": {
        "id": "0w4sdmcCv6Bb"
      },
      "source": [
        ""
      ],
      "execution_count": null,
      "outputs": []
    },
    {
      "cell_type": "markdown",
      "metadata": {
        "id": "vZgbk1i_M8iZ"
      },
      "source": [
        "## Prétraitements"
      ]
    },
    {
      "cell_type": "markdown",
      "metadata": {
        "id": "LpnR5ECxv6Bf"
      },
      "source": [
        "**<ins>Question</ins>: Y-a-t-il besoin de normaliser les descripteurs? Si oui, que faut-il conserver comme information et pourquoi?**"
      ]
    },
    {
      "cell_type": "markdown",
      "metadata": {
        "id": "v1kxf9u-v6Bf"
      },
      "source": [
        "_votre réponse ici:_ "
      ]
    },
    {
      "cell_type": "markdown",
      "metadata": {
        "id": "tZg6lMprM8id"
      },
      "source": [
        "_Your Code below_"
      ]
    },
    {
      "cell_type": "code",
      "metadata": {
        "id": "FpMOfWp6M8id"
      },
      "source": [
        ""
      ],
      "execution_count": null,
      "outputs": []
    },
    {
      "cell_type": "markdown",
      "metadata": {
        "id": "JwSASt2EM8ii"
      },
      "source": [
        "## Apprentissage"
      ]
    },
    {
      "cell_type": "markdown",
      "metadata": {
        "id": "EKfZD5Ymv6Bg"
      },
      "source": [
        "<strong><ins>Question</ins>: Séparer en deux ensembles de données et réalisez l'apprentissage successifs des modèles:\n",
        "* régression logistique, réseaux de neurones, svm et random forest en utilisant les fonctions du package scikit-learn\n",
        "</strong>\n",
        "\n",
        "<span style='color:red'> **Pas de code à développer ici, réutiliser celui de la partie 1**</span>"
      ]
    },
    {
      "cell_type": "markdown",
      "metadata": {
        "id": "Iuzu7p9bv6Bh"
      },
      "source": [
        "_Your Code below_"
      ]
    },
    {
      "cell_type": "code",
      "metadata": {
        "id": "X6emYkwYM8im"
      },
      "source": [
        ""
      ],
      "execution_count": null,
      "outputs": []
    },
    {
      "cell_type": "markdown",
      "metadata": {
        "id": "EdI0YU6dM8ir"
      },
      "source": [
        "## Fixer les hyper paramètres"
      ]
    },
    {
      "cell_type": "markdown",
      "metadata": {
        "id": "MvtGFVZaM8is"
      },
      "source": [
        "**<ins>Question</ins>: Déterminez les hyper-paramètres (paramètre uniquement lié à l'algorithme d'apprentissage) de chaque algorithme. Comment allez vous les fixer?**"
      ]
    },
    {
      "cell_type": "markdown",
      "metadata": {
        "id": "UyKAJ6wwM8iu"
      },
      "source": [
        "_votre réponse ici:_"
      ]
    },
    {
      "cell_type": "markdown",
      "metadata": {
        "id": "OPTVxU1Av6Bt"
      },
      "source": [
        "**<ins>Question</ins>:\n",
        "Lisez le [tutoriel suivant](https://scikit-learn.org/stable/auto_examples/applications/plot_face_recognition.html\\#sphx-glr-auto-examples-applications-plot-face-recognition-py) en faisant particulièrement attention à la façon dont est gérée la détermination des hyperparamètres et l'évaluation des performances. Reproduisez cette méthodologie en testant différents nombres de plis (fold).**"
      ]
    },
    {
      "cell_type": "markdown",
      "metadata": {
        "id": "2imQo5dcv6Bu"
      },
      "source": [
        "_Your Code below_"
      ]
    },
    {
      "cell_type": "code",
      "metadata": {
        "id": "4ZhX6T0EM8iy"
      },
      "source": [
        ""
      ],
      "execution_count": null,
      "outputs": []
    },
    {
      "cell_type": "markdown",
      "metadata": {
        "id": "CXG85EQLv6Bn"
      },
      "source": [
        "**<ins>Question</ins>: Évaluer les résultats et donner la valeur des paramètres optimaux**"
      ]
    },
    {
      "cell_type": "markdown",
      "metadata": {
        "id": "3rpSf449v6Bt"
      },
      "source": [
        "_votre réponse ici:_"
      ]
    },
    {
      "cell_type": "markdown",
      "metadata": {
        "id": "UAqO5VrhM8i4"
      },
      "source": [
        "_Your Code below_"
      ]
    },
    {
      "cell_type": "code",
      "metadata": {
        "id": "rthsnlIvv6Bu"
      },
      "source": [
        ""
      ],
      "execution_count": null,
      "outputs": []
    },
    {
      "cell_type": "markdown",
      "metadata": {
        "id": "mj2dN6IZM8i_"
      },
      "source": [
        "## Apprendre le modèle final pour chaque classifieur"
      ]
    },
    {
      "cell_type": "markdown",
      "metadata": {
        "id": "du-rW7R3M8jA"
      },
      "source": [
        "_votre réponse ici:_"
      ]
    },
    {
      "cell_type": "markdown",
      "metadata": {
        "id": "d0nU-kGzM8jB"
      },
      "source": [
        "_Your Code below_"
      ]
    },
    {
      "cell_type": "code",
      "metadata": {
        "id": "ZmlUnWITM8jC"
      },
      "source": [
        ""
      ],
      "execution_count": null,
      "outputs": []
    },
    {
      "cell_type": "markdown",
      "metadata": {
        "id": "BJRa_t9_M8jG"
      },
      "source": [
        "## Evaluer chaque classifieur"
      ]
    },
    {
      "cell_type": "markdown",
      "metadata": {
        "id": "0ZGNvJ0fM8jG"
      },
      "source": [
        "_votre réponse ici:_ "
      ]
    },
    {
      "cell_type": "markdown",
      "metadata": {
        "id": "3lHi1arJM8jI"
      },
      "source": [
        "_Your Code below_"
      ]
    },
    {
      "cell_type": "code",
      "metadata": {
        "id": "la77Ik6KM8jJ"
      },
      "source": [
        ""
      ],
      "execution_count": null,
      "outputs": []
    },
    {
      "cell_type": "markdown",
      "metadata": {
        "id": "YnMpegufv6By"
      },
      "source": [
        "## Partie 4 Analyse finale des résultats\n"
      ]
    },
    {
      "cell_type": "markdown",
      "metadata": {
        "id": "Ew9r6cPgv6By"
      },
      "source": [
        "**<ins>Question</ins>: Réalisez un diagramme fonctionnel décrivant le flux des données tout au long de l'approche supervisée. Ce diagramme devra faire apparaître au minimum: les trois ensembles d'images, les descripteurs, les différents algorithmes d'apprentissage, l'évaluation, les différents blocs de traitements.**"
      ]
    },
    {
      "cell_type": "markdown",
      "metadata": {
        "id": "JL6sMZpDv6B0"
      },
      "source": [
        "_votre réponse ici:_ "
      ]
    },
    {
      "cell_type": "markdown",
      "metadata": {
        "id": "L3pwYHoZv6B1"
      },
      "source": [
        "_Your Code below_"
      ]
    },
    {
      "cell_type": "code",
      "metadata": {
        "id": "k91uEbZGv6B1"
      },
      "source": [
        ""
      ],
      "execution_count": null,
      "outputs": []
    },
    {
      "cell_type": "markdown",
      "metadata": {
        "id": "YVqpga1vv6B5"
      },
      "source": [
        "**<ins>Question</ins>: Faites une synthèse des résultats obtenus. Dresser en particulier des conclusions en fonction des descripteurs utilisés, des algorithmes utilisés et des prétraitements effectués.**"
      ]
    },
    {
      "cell_type": "markdown",
      "metadata": {
        "id": "dUF82_f1v6B5"
      },
      "source": [
        "_votre réponse ici:_"
      ]
    }
  ]
}